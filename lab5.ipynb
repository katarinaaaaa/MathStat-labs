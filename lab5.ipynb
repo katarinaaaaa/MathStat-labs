{
 "cells": [
  {
   "cell_type": "code",
   "execution_count": 115,
   "metadata": {
    "collapsed": true
   },
   "outputs": [],
   "source": [
    "import scipy.stats as sps\n",
    "import numpy as np\n",
    "import math"
   ]
  },
  {
   "cell_type": "code",
   "execution_count": 116,
   "outputs": [],
   "source": [
    "alpha = 0.05"
   ],
   "metadata": {
    "collapsed": false,
    "pycharm": {
     "name": "#%%\n"
    }
   }
  },
  {
   "cell_type": "markdown",
   "source": [
    "# Критерий знаков"
   ],
   "metadata": {
    "collapsed": false,
    "pycharm": {
     "name": "#%% md\n"
    }
   }
  },
  {
   "cell_type": "code",
   "execution_count": 117,
   "outputs": [],
   "source": [
    "def sign_test_small(x, y):\n",
    "    minus, plus = 0, 0\n",
    "    for (x_i, y_i) in zip(x, y):\n",
    "        if x_i < y_i: minus += 1\n",
    "        elif x_i > y_i: plus += 1\n",
    "    nk = minus + plus\n",
    "    w = min(minus, plus)\n",
    "    print(f\"Число '-': {minus}, число '+': {plus}\")\n",
    "\n",
    "    t = 2 ** (-nk) * sum([math.comb(nk, j) for j in range(w + 1)])\n",
    "\n",
    "    print(f\"Статистика t = {t}, интервал [{- alpha / 2}, {1 - alpha / 2}]\")\n",
    "    if - alpha / 2 < t < 1 - alpha / 2: print('Средние выборок равны')\n",
    "    elif - alpha / 2 > t: print('Средние выборок не равны, x преобладает')\n",
    "    elif t > 1 - alpha / 2: print('Средние выборок не равны, y преобладает')\n",
    "    print()\n",
    "\n",
    "def sign_test_big(x, y):\n",
    "    minus, plus = 0, 0\n",
    "    for (x_i, y_i) in zip(x, y):\n",
    "        if x_i < y_i: minus += 1\n",
    "        elif x_i > y_i: plus += 1\n",
    "    nk = minus + plus\n",
    "    w = min(minus, plus)\n",
    "    t = (w - nk / 2) / (n / 4) ** 0.5\n",
    "\n",
    "    u_half_alpha = - sps.norm.ppf(alpha / 2)\n",
    "    print(f\"Статистика t = {t}, интервал [{- u_half_alpha}, {u_half_alpha}]\")\n",
    "    if - u_half_alpha < t < u_half_alpha: print('Средние выборок равны')\n",
    "    elif - u_half_alpha > t: print('Средние выборок не равны, x преобладает')\n",
    "    elif t > u_half_alpha: print('Средние выборок не равны, y преобладает')\n",
    "    print()"
   ],
   "metadata": {
    "collapsed": false,
    "pycharm": {
     "name": "#%%\n"
    }
   }
  },
  {
   "cell_type": "code",
   "execution_count": 118,
   "outputs": [
    {
     "name": "stdout",
     "output_type": "stream",
     "text": [
      "Равномерный шум:\n",
      "\n",
      "Число '-': 9, число '+': 11\n",
      "Статистика t = 0.41190147399902344, интервал [-0.025, 0.975]\n",
      "Средние выборок равны\n",
      "\n"
     ]
    }
   ],
   "source": [
    "gauss_exp = 0\n",
    "gauss_var = 7\n",
    "n = 20\n",
    "a, b = -10, 10\n",
    "\n",
    "x = sps.norm(gauss_exp, gauss_var ** 0.5).rvs(n)\n",
    "y1 = 5 * x + sps.uniform(a, b - a).rvs(n)\n",
    "print(\"Равномерный шум:\")\n",
    "print()\n",
    "sign_test_small(x, y1)"
   ],
   "metadata": {
    "collapsed": false,
    "pycharm": {
     "name": "#%%\n"
    }
   }
  },
  {
   "cell_type": "code",
   "execution_count": 119,
   "outputs": [
    {
     "name": "stdout",
     "output_type": "stream",
     "text": [
      "Экспоненциальный шум:\n",
      "\n",
      "Число '-': 10, число '+': 10\n",
      "Статистика t = 0.5880985260009766, интервал [-0.025, 0.975]\n",
      "Средние выборок равны\n",
      "\n"
     ]
    }
   ],
   "source": [
    "exp_lambda = 20\n",
    "y2 = 5 * x + np.random.exponential(1 / exp_lambda, n)\n",
    "print(\"Экспоненциальный шум:\")\n",
    "print()\n",
    "sign_test_small(x, y2)"
   ],
   "metadata": {
    "collapsed": false,
    "pycharm": {
     "name": "#%%\n"
    }
   }
  },
  {
   "cell_type": "markdown",
   "source": [
    "# Ранговый критерий знаков"
   ],
   "metadata": {
    "collapsed": false,
    "pycharm": {
     "name": "#%% md\n"
    }
   }
  },
  {
   "cell_type": "code",
   "execution_count": 298,
   "outputs": [],
   "source": [
    "def signed_rang_test(x, y):\n",
    "    dif = abs(x - y)\n",
    "    np.delete(dif, np.where(dif == 0))\n",
    "    n = len(dif)\n",
    "    k = n // 4\n",
    "    a, b = 0, max(dif)\n",
    "    bounds = [a + i * (b - a) / k for i in range(k + 1)]\n",
    "    ints = [(bounds[i], bounds[i + 1]) for i in range(len(bounds) - 1)]\n",
    "    t = sum([np.sign(d) * [j for j in range(k) if ints[j][0] <= d <= ints[j][1]][0] for d in dif])\n",
    "\n",
    "    # dif_sort = sorted(dif)\n",
    "    # t = sum([np.sign(d) * list(dif_sort).index(d) for d in dif])\n",
    "    t = t / (n * (n + 1) * (2 * n + 1) / 6) ** 0.5\n",
    "\n",
    "    u_half_alpha = - sps.norm.ppf(alpha / 2)\n",
    "    print(f\"Статистика t = {t}, интервал [{- u_half_alpha}, {u_half_alpha}]\")\n",
    "    if - u_half_alpha < t < u_half_alpha: print('Средние выборок равны')\n",
    "    elif - u_half_alpha > t: print('Средние выборок не равны, x преобладает')\n",
    "    elif t > u_half_alpha: print('Средние выборок не равны, y преобладает')\n",
    "    print()"
   ],
   "metadata": {
    "collapsed": false,
    "pycharm": {
     "name": "#%%\n"
    }
   }
  },
  {
   "cell_type": "code",
   "execution_count": 299,
   "outputs": [
    {
     "name": "stdout",
     "output_type": "stream",
     "text": [
      "Равномерный шум:\n",
      "\n",
      "Ассимптотический критерий знаков\n",
      "Статистика t = -0.2, интервал [-1.9599639845400545, 1.9599639845400545]\n",
      "Средние выборок равны\n",
      "\n",
      "Ранговый критерий знаков\n",
      "Статистика t = 1.086510650579627, интервал [-1.9599639845400545, 1.9599639845400545]\n",
      "Средние выборок равны\n",
      "\n"
     ]
    }
   ],
   "source": [
    "n = 100\n",
    "\n",
    "x = sps.norm(gauss_exp, gauss_var ** 0.5).rvs(n)\n",
    "y1 = 5 * x + sps.uniform(a, b - a).rvs(n)\n",
    "print(\"Равномерный шум:\")\n",
    "print()\n",
    "print(\"Ассимптотический критерий знаков\")\n",
    "sign_test_big(x, y1)\n",
    "print(\"Ранговый критерий знаков\")\n",
    "signed_rang_test(x, y1)"
   ],
   "metadata": {
    "collapsed": false,
    "pycharm": {
     "name": "#%%\n"
    }
   }
  },
  {
   "cell_type": "code",
   "execution_count": 300,
   "outputs": [
    {
     "name": "stdout",
     "output_type": "stream",
     "text": [
      "Экспоненциальный шум:\n",
      "\n",
      "Ассимптотический критерий знаков\n",
      "Статистика t = -0.35777087639996635, интервал [-1.9599639845400545, 1.9599639845400545]\n",
      "Средние выборок равны\n",
      "\n",
      "Ранговый критерий знаков\n",
      "Статистика t = 2.460920608434264, интервал [-1.9599639845400545, 1.9599639845400545]\n",
      "Средние выборок не равны, y преобладает\n",
      "\n"
     ]
    }
   ],
   "source": [
    "n = 500\n",
    "x = sps.norm(gauss_exp, gauss_var ** 0.5).rvs(n)\n",
    "\n",
    "exp_lambda = 20\n",
    "y2 = 5 * x + np.random.exponential(scale=1/exp_lambda, size=n)\n",
    "print(\"Экспоненциальный шум:\")\n",
    "print()\n",
    "print(\"Ассимптотический критерий знаков\")\n",
    "sign_test_big(x, y2)\n",
    "print(\"Ранговый критерий знаков\")\n",
    "signed_rang_test(x, y2)"
   ],
   "metadata": {
    "collapsed": false,
    "pycharm": {
     "name": "#%%\n"
    }
   }
  },
  {
   "cell_type": "markdown",
   "source": [
    "# Коэффициенты корреляции"
   ],
   "metadata": {
    "collapsed": false,
    "pycharm": {
     "name": "#%% md\n"
    }
   }
  },
  {
   "cell_type": "code",
   "source": [
    "def kendall_cor_coef(x, y):\n",
    "    consist, inconsist = 0, 0\n",
    "    n = len(x)\n",
    "    for i in range(n):\n",
    "        for j in range(i, n):\n",
    "            if (x[i] < x[j] and y[i] < y[j]) or (x[i] > x[j] and y[i] > y[j]): consist += 1\n",
    "            else: inconsist += 1\n",
    "    r = (consist - inconsist) / math.comb(n, 2)\n",
    "    t = r / (2 * (2 * n + 5) / (9 * n * (n - 1))) ** 0.5\n",
    "\n",
    "    u_half_alpha = - sps.norm.ppf(alpha / 2)\n",
    "    print(f\"Статистика t = {t}, интервал [{- u_half_alpha}, {u_half_alpha}]\")\n",
    "    if - u_half_alpha < t < u_half_alpha: print('Выборки не коррелированы')\n",
    "    else: print(\"Выборки коррелированы\")\n",
    "    print()"
   ],
   "metadata": {
    "collapsed": false,
    "pycharm": {
     "name": "#%%\n"
    }
   },
   "execution_count": 140,
   "outputs": []
  },
  {
   "cell_type": "code",
   "execution_count": 189,
   "outputs": [],
   "source": [
    "def pirson_cor_coef(x, y):\n",
    "    n = len(x)\n",
    "    x_mean = sum(x) / n\n",
    "    y_mean = sum(y) / n\n",
    "    r = sum([(x[i] - x_mean) * (y[i] - y_mean) for i in range(len(x))])\n",
    "    r = r / (sum([(x_i - x_mean) ** 2 for x_i in x]) * sum([(y_i - y_mean) ** 2 for y_i in y])) ** 0.5\n",
    "    t = 0.5 * np.log((1 + r) / (1 - r)) / (1 / (n - 3)) ** 0.5\n",
    "    print(f\"Коэффициент корреляции: r = {r}\")\n",
    "\n",
    "    u_half_alpha = - sps.norm.ppf(alpha / 2)\n",
    "    # print(f\"Статистика Фишера t = {t}, интервал [{- u_half_alpha}, {u_half_alpha}]\")\n",
    "    print(f\"Статистика t = {t}, интервал [{- u_half_alpha}, {u_half_alpha}]\")\n",
    "    if - u_half_alpha < t < u_half_alpha: print('Выборки не коррелированы')\n",
    "    else: print(\"Выборки коррелированы\")\n",
    "\n",
    "    # t = r * ((n - 2) / (1 - r ** 2)) ** 0.5\n",
    "    # tau_half_alpha = sps.t.ppf(1 - alpha / 2, n - 2)\n",
    "    # print(f\"Статистика Стьюдента t = {t}, интервал [{- tau_half_alpha}, {tau_half_alpha}]\")\n",
    "    # if - tau_half_alpha < t < tau_half_alpha: print('Выборки не коррелированы')\n",
    "    # else: print(\"Выборки коррелированы\")\n",
    "    print()"
   ],
   "metadata": {
    "collapsed": false,
    "pycharm": {
     "name": "#%%\n"
    }
   }
  },
  {
   "cell_type": "code",
   "execution_count": 190,
   "outputs": [
    {
     "name": "stdout",
     "output_type": "stream",
     "text": [
      "Равномерный шум:\n",
      "\n",
      "Коэффициент Кендала\n",
      "Статистика t = 10.35789018744913, интервал [-1.9599639845400545, 1.9599639845400545]\n",
      "Выборки коррелированы\n",
      "\n",
      "Коэффициент Пирсона\n",
      "Коэффициент корреляции: r = 0.9161268527794637\n",
      "Статистика t = 15.407334786836316, интервал [-1.9599639845400545, 1.9599639845400545]\n",
      "Выборки коррелированы\n",
      "\n"
     ]
    }
   ],
   "source": [
    "n = 100\n",
    "\n",
    "gauss_exp = 0\n",
    "gauss_var = 7\n",
    "a, b = -10, 10\n",
    "x = sps.norm(gauss_exp, gauss_var ** 0.5).rvs(n)\n",
    "y1 = 5 * x + sps.uniform(a, b - a).rvs(n)\n",
    "print(\"Равномерный шум:\")\n",
    "print()\n",
    "# 0/5 ошибки\n",
    "print(\"Коэффициент Кендала\")\n",
    "kendall_cor_coef(x, y1)\n",
    "# 0/5 ошибки\n",
    "print(\"Коэффициент Пирсона\")\n",
    "pirson_cor_coef(x, y1)"
   ],
   "metadata": {
    "collapsed": false,
    "pycharm": {
     "name": "#%%\n"
    }
   }
  },
  {
   "cell_type": "code",
   "execution_count": 191,
   "outputs": [
    {
     "name": "stdout",
     "output_type": "stream",
     "text": [
      "Равномерный шум:\n",
      "\n",
      "Коэффициент Кендала\n",
      "Статистика t = 14.420041485804683, интервал [-1.9599639845400545, 1.9599639845400545]\n",
      "Выборки коррелированы\n",
      "\n",
      "Коэффициент Пирсона\n",
      "Коэффициент корреляции: r = 0.9999935059256584\n",
      "Статистика t = 62.23377210700012, интервал [-1.9599639845400545, 1.9599639845400545]\n",
      "Выборки коррелированы\n",
      "\n"
     ]
    }
   ],
   "source": [
    "exp_lambda = 20\n",
    "y2 = 5 * x + np.random.exponential(1 / exp_lambda, n)\n",
    "print(\"Равномерный шум:\")\n",
    "print()\n",
    "# 0/5 ошибки\n",
    "print(\"Коэффициент Кендала\")\n",
    "kendall_cor_coef(x, y2)\n",
    "# 0/5 ошибки\n",
    "print(\"Коэффициент Пирсона\")\n",
    "pirson_cor_coef(x, y2)"
   ],
   "metadata": {
    "collapsed": false,
    "pycharm": {
     "name": "#%%\n"
    }
   }
  },
  {
   "cell_type": "markdown",
   "source": [
    "# Проверка автокорреляции"
   ],
   "metadata": {
    "collapsed": false,
    "pycharm": {
     "name": "#%% md\n"
    }
   }
  },
  {
   "cell_type": "code",
   "execution_count": 24,
   "outputs": [],
   "source": [
    "def autocorrelation_coef_tests(x):\n",
    "    n = len(x)\n",
    "    r = n * sum([x[i] * x[i + 1] for i in range(n - 1)]) - (sum(x)) ** 2 + n * x[0] * x[n - 1]\n",
    "    r = r / (n * sum([x_i ** 2 for x_i in x]) - (sum(x)) ** 2)\n",
    "    print(f\"Коэффициент корреляции: r = {r}\")\n",
    "    t = (r + 1 / (n - 1)) / (n * (n - 3) / ((n + 1) * (n - 1) ** 2)) ** 0.5\n",
    "    u_half_alpha = - sps.norm.ppf(alpha / 2)\n",
    "    print(f\"Статистика t = {t}, интервал [{- u_half_alpha}, {u_half_alpha}]\")\n",
    "    if - u_half_alpha < t < u_half_alpha: print('Автокорреляции нет')\n",
    "    else: print(\"Выборки автокоррелированы\")\n",
    "    print()\n",
    "\n",
    "def moran_test(x):\n",
    "    n = len(x)\n",
    "    r = n * sum([x[i] * x[i + 1] for i in range(n - 1)]) - sum(x) ** 2 + n * x[0] * x[n - 1]\n",
    "    r = r / (n * sum([x_i ** 2 for x_i in x]) - sum(x) ** 2)\n",
    "    t = ((n * r + 1)/ (n - 2)) * (n - 1) ** 0.5\n",
    "    u_half_alpha = - sps.norm.ppf(alpha / 2)\n",
    "    print(f\"Статистика t = {t}, интервал [{- u_half_alpha}, {u_half_alpha}]\")\n",
    "    if - u_half_alpha < t < u_half_alpha: print('Автокорреляции нет')\n",
    "    else: print(\"Выборки автокоррелированы\")\n",
    "    print()\n",
    "\n",
    "def ljung_box_test(x):\n",
    "    n = len(x)\n",
    "    r = n * sum([x[i] * x[i + 1] for i in range(n - 1)]) - sum(x) ** 2 + n * x[0] * x[n - 1]\n",
    "    r = r / (n * sum([x_i ** 2 for x_i in x]) - sum(x) ** 2)\n",
    "    t = r * (n * (n + 2) / (n - 1)) ** 0.5\n",
    "    u_half_alpha = - sps.norm.ppf(alpha / 2)\n",
    "    print(f\"Статистика t = {t}, интервал [{- u_half_alpha}, {u_half_alpha}]\")\n",
    "    if - u_half_alpha < t < u_half_alpha: print('Автокорреляции нет')\n",
    "    else: print(\"Выборки автокоррелированы\")\n",
    "    print()\n",
    "\n",
    "def duff_roy_test(x):\n",
    "    n = len(x)\n",
    "    r = n * sum([x[i] * x[i + 1] for i in range(n - 1)]) - sum(x) ** 2 + n * x[0] * x[n - 1]\n",
    "    r = r / (n * sum([x_i ** 2 for x_i in x]) - sum(x) ** 2)\n",
    "    t = n * r * ((n - 1) / (n * (n - 2))) ** 0.5\n",
    "    u_half_alpha = - sps.norm.ppf(alpha / 2)\n",
    "    print(f\"Статистика t = {t}, интервал [{- u_half_alpha}, {u_half_alpha}]\")\n",
    "    if - u_half_alpha < t < u_half_alpha: print('Автокорреляции нет')\n",
    "    else: print(\"Выборки автокоррелированы\")\n",
    "    print()"
   ],
   "metadata": {
    "collapsed": false,
    "pycharm": {
     "name": "#%%\n"
    }
   }
  },
  {
   "cell_type": "code",
   "execution_count": 99,
   "outputs": [],
   "source": [
    "def wald_wolfitz_test(x):\n",
    "    n = len(x)\n",
    "    S1 = sum(x)\n",
    "    S2 = sum([x_i ** 2 for x_i in x])\n",
    "    S3 = sum([x_i ** 3 for x_i in x])\n",
    "    S4 = sum([x_i ** 4 for x_i in x])\n",
    "    R = sum([x[i] * x[i + 1] for i in range(n - 1)]) + x[0] * x[n - 1]\n",
    "    M = (S1 ** 2 - S2) / (n - 1)\n",
    "    D = (S2 ** 2 - S4) / (n - 1) + (S1 ** 4 - 4 * S1 ** 2 * S2 + 4 * S1 * S3 + S2 ** 2 - 2 * S4) / ((n - 1) * (n - 2)) + \\\n",
    "        (S1 ** 2 - S2) ** 2 / (n - 1) ** 2\n",
    "    R = (R - M) / D ** 0.5\n",
    "    u_half_alpha = - sps.norm.ppf(alpha / 2)\n",
    "    print(f\"Статистика R = {R}, интервал [{- u_half_alpha}, {u_half_alpha}]\")\n",
    "    if - u_half_alpha < R < u_half_alpha: print('Автокорреляции нет')\n",
    "    else: print(\"Выборки автокоррелированы\")\n",
    "    print()\n",
    "\n",
    "def rang_wald_wolfitz_test(x):\n",
    "    n = len(x)\n",
    "    x_row = sorted(x)\n",
    "    R = sum([(list(x_row).index(x[i]) - (n + 1) / 2) * (list(x_row).index(x[i + 1]) - (n + 1) / 2)\n",
    "             for i in range(n - 1)])\n",
    "    R = R / (n ** 2 * (n + 1) * (n - 3) * (5 * n + 6) / 720) ** 0.5\n",
    "    u_half_alpha = - sps.norm.ppf(alpha / 2)\n",
    "    print(f\"Статистика R = {R}, интервал [{- u_half_alpha}, {u_half_alpha}]\")\n",
    "    if - u_half_alpha < R < u_half_alpha: print('Автокорреляции нет')\n",
    "    else: print(\"Выборки автокоррелированы\")\n",
    "    print()\n",
    "\n",
    "def rang_duff_roy_test(x):\n",
    "    n = len(x)\n",
    "    x_row = sorted(x)\n",
    "    R = sum([(list(x_row).index(x[i]) - (n + 1) / 2) * (list(x_row).index(x[i + 1]) - (n + 1) / 2)\n",
    "             for i in range(n - 1)]) / sum([(list(x_row).index(x[i]) - (n + 1) / 2) ** 2\n",
    "                                            for i in range(n)])\n",
    "    R = (R + 1 / n) / ((5 * n ** 3 - 19 * n ** 2 + 10 * n + 16) / (5 * n ** 2 * (n - 1) ** 2)) ** 0.5\n",
    "    u_half_alpha = - sps.norm.ppf(alpha / 2)\n",
    "    print(f\"Статистика R = {R}, интервал [{- u_half_alpha}, {u_half_alpha}]\")\n",
    "    if - u_half_alpha < R < u_half_alpha: print('Автокорреляции нет')\n",
    "    else: print(\"Выборки автокоррелированы\")\n",
    "    print()"
   ],
   "metadata": {
    "collapsed": false,
    "pycharm": {
     "name": "#%%\n"
    }
   }
  },
  {
   "cell_type": "code",
   "execution_count": 107,
   "outputs": [
    {
     "name": "stdout",
     "output_type": "stream",
     "text": [
      "Исходная выборка:\n",
      "Коэффициент автокорреляции Пирсона\n",
      "Коэффициент корреляции: r = 0.016648614410530154\n",
      "Статистика t = 0.270226355803009, интервал [-1.9599639845400545, 1.9599639845400545]\n",
      "Автокорреляции нет\n",
      "\n",
      "Критерий Морана\n",
      "Статистика t = 0.2705615974977137, интервал [-1.9599639845400545, 1.9599639845400545]\n",
      "Автокорреляции нет\n",
      "\n",
      "Критерий Люнга-Бокса\n",
      "Статистика t = 0.16898983563550024, интервал [-1.9599639845400545, 1.9599639845400545]\n",
      "Автокорреляции нет\n",
      "\n",
      "Критерий Дюффа-Роя\n",
      "Статистика R = 1.1385607743743242, интервал [-1.9599639845400545, 1.9599639845400545]\n",
      "Автокорреляции нет\n",
      "\n",
      "Критерий Вальда-Вольфовица\n",
      "Статистика R = 0.007364362528606569, интервал [-1.9599639845400545, 1.9599639845400545]\n",
      "Автокорреляции нет\n",
      "\n",
      "Ранговый критерий Вальда-Вольфовица\n",
      "Статистика R = 0.011840689557721417, интервал [-1.9599639845400545, 1.9599639845400545]\n",
      "Автокорреляции нет\n",
      "\n",
      "Ранговый критерий Дюффа-Роя\n",
      "Статистика R = 0.1128117720795883, интервал [-1.9599639845400545, 1.9599639845400545]\n",
      "Автокорреляции нет\n",
      "\n"
     ]
    }
   ],
   "source": [
    "n = 100\n",
    "gauss_exp = 5\n",
    "gauss_var = 7\n",
    "\n",
    "x = sps.norm(gauss_exp, gauss_var ** 0.5).rvs(n)\n",
    "print(\"Исходная выборка:\")\n",
    "print(\"Коэффициент автокорреляции Пирсона\")\n",
    "autocorrelation_coef_tests(x)\n",
    "print(\"Критерий Морана\")\n",
    "moran_test(x)\n",
    "print(\"Критерий Люнга-Бокса\")\n",
    "ljung_box_test(x)\n",
    "print(\"Критерий Дюффа-Роя\")\n",
    "duff_roy_test(x)\n",
    "print(\"Критерий Вальда-Вольфовица\")\n",
    "wald_wolfitz_test(x)\n",
    "print(\"Ранговый критерий Вальда-Вольфовица\")\n",
    "rang_wald_wolfitz_test(x)\n",
    "print(\"Ранговый критерий Дюффа-Роя\")\n",
    "rang_duff_roy_test(x)"
   ],
   "metadata": {
    "collapsed": false,
    "pycharm": {
     "name": "#%%\n"
    }
   }
  },
  {
   "cell_type": "code",
   "execution_count": 301,
   "outputs": [
    {
     "name": "stdout",
     "output_type": "stream",
     "text": [
      "Выборка с автокорреляцией:\n",
      "Коэффициент автокорреляции Пирсона\n",
      "Коэффициент корреляции: r = 0.07772308470267258\n",
      "Статистика t = 1.7846418843637142, интервал [-1.9599639845400545, 1.9599639845400545]\n",
      "Автокорреляции нет\n",
      "\n",
      "Критерий Морана\n",
      "Статистика t = 1.786342602833222, интервал [-1.9599639845400545, 1.9599639845400545]\n",
      "Автокорреляции нет\n",
      "\n",
      "Критерий Люнга-Бокса\n",
      "Статистика t = 1.7414238698465987, интервал [-1.9599639845400545, 1.9599639845400545]\n",
      "Автокорреляции нет\n",
      "\n",
      "Критерий Дюффа-Роя\n",
      "Статистика R = 36.655908612994345, интервал [-1.9599639845400545, 1.9599639845400545]\n",
      "Выборки автокоррелированы\n",
      "\n",
      "Критерий Вальда-Вольфовица\n",
      "Статистика R = 1.7823465784110122, интервал [-1.9599639845400545, 1.9599639845400545]\n",
      "Автокорреляции нет\n",
      "\n",
      "Ранговый критерий Вальда-Вольфовица\n",
      "Статистика R = 1.5916052068632238, интервал [-1.9599639845400545, 1.9599639845400545]\n",
      "Автокорреляции нет\n",
      "\n",
      "Ранговый критерий Дюффа-Роя\n",
      "Статистика R = 1.6379729579323856, интервал [-1.9599639845400545, 1.9599639845400545]\n",
      "Автокорреляции нет\n",
      "\n"
     ]
    }
   ],
   "source": [
    "y = np.copy(x[:n - 1])\n",
    "for i in range(len(x) - 1): y[i] += 0.1 * x[i + 1]\n",
    "print(\"Выборка с автокорреляцией:\")\n",
    "print(\"Коэффициент автокорреляции Пирсона\")\n",
    "autocorrelation_coef_tests(y)\n",
    "print(\"Критерий Морана\")\n",
    "moran_test(y)\n",
    "print(\"Критерий Люнга-Бокса\")\n",
    "ljung_box_test(y)\n",
    "print(\"Критерий Дюффа-Роя\")\n",
    "duff_roy_test(y)\n",
    "print(\"Критерий Вальда-Вольфовица\")\n",
    "wald_wolfitz_test(y)\n",
    "print(\"Ранговый критерий Вальда-Вольфовица\")\n",
    "rang_wald_wolfitz_test(y)\n",
    "print(\"Ранговый критерий Дюффа-Роя\")\n",
    "rang_duff_roy_test(y)"
   ],
   "metadata": {
    "collapsed": false,
    "pycharm": {
     "name": "#%%\n"
    }
   }
  },
  {
   "cell_type": "markdown",
   "source": [
    "# Критерий Хсу"
   ],
   "metadata": {
    "collapsed": false,
    "pycharm": {
     "name": "#%% md\n"
    }
   }
  },
  {
   "cell_type": "code",
   "execution_count": 213,
   "outputs": [],
   "source": [
    "def median(sample): # выборочная медиана\n",
    "    n = len(sample)\n",
    "    if n % 2 == 1: return sorted(sample)[n // 2]\n",
    "    else: return (sorted(sample)[n // 2 - 1] + sorted(sample)[n // 2]) / 2\n",
    "\n",
    "def xu_test(x):\n",
    "    n = len(x)\n",
    "    m = median(x)\n",
    "    s = sum([(x[i] - m) ** 2 for i in range(n)])\n",
    "    H = sum([i * (x[i] - m) ** 2 for i in range(n)]) / (s * (n - 1))\n",
    "    H = (H - 0.5) / ((n + 1) / (6 * (n - 1) * (n + 2))) ** 0.5\n",
    "\n",
    "    u_half_alpha = - sps.norm.ppf(alpha / 2)\n",
    "    print(f\"Статистика H = {H}, интервал [{- u_half_alpha}, {u_half_alpha}]\")\n",
    "    if - u_half_alpha < H < u_half_alpha: print('Сдвиг дисперсии отсутсвует')\n",
    "    else: print(\"В некоторый момент происходит сдвиг дисперсии\")\n",
    "    print()"
   ],
   "metadata": {
    "collapsed": false,
    "pycharm": {
     "name": "#%%\n"
    }
   }
  },
  {
   "cell_type": "code",
   "execution_count": 245,
   "outputs": [
    {
     "name": "stdout",
     "output_type": "stream",
     "text": [
      "Исходная выборка\n",
      "Статистика H = 0.42967423759163137, интервал [-1.9599639845400545, 1.9599639845400545]\n",
      "Сдвиг дисперсии отсутсвует\n",
      "\n",
      "Выборка со сдвигом\n",
      "Статистика H = 3.0401166226956367, интервал [-1.9599639845400545, 1.9599639845400545]\n",
      "В некоторый момент происходит сдвиг дисперсии\n",
      "\n"
     ]
    }
   ],
   "source": [
    "n = 100\n",
    "gauss_exp = 0\n",
    "gauss_var = 7\n",
    "\n",
    "# 0/5 ошибок\n",
    "print(\"Исходная выборка\")\n",
    "x = sps.norm(gauss_exp, gauss_var ** 0.5).rvs(n)\n",
    "xu_test(x)\n",
    "\n",
    "# 1/5 ошибок\n",
    "print(\"Выборка со сдвигом\")\n",
    "x1 = x[0:n//2]\n",
    "x2 = x[n//2:n] * 1.5\n",
    "x_shift = np.concatenate([x1, x2])\n",
    "xu_test(x_shift)"
   ],
   "metadata": {
    "collapsed": false,
    "pycharm": {
     "name": "#%%\n"
    }
   }
  },
  {
   "cell_type": "code",
   "execution_count": null,
   "outputs": [],
   "source": [],
   "metadata": {
    "collapsed": false,
    "pycharm": {
     "name": "#%%\n"
    }
   }
  }
 ],
 "metadata": {
  "kernelspec": {
   "display_name": "Python 3",
   "language": "python",
   "name": "python3"
  },
  "language_info": {
   "codemirror_mode": {
    "name": "ipython",
    "version": 2
   },
   "file_extension": ".py",
   "mimetype": "text/x-python",
   "name": "python",
   "nbconvert_exporter": "python",
   "pygments_lexer": "ipython2",
   "version": "2.7.6"
  }
 },
 "nbformat": 4,
 "nbformat_minor": 0
}