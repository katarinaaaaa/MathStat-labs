{
 "cells": [
  {
   "cell_type": "code",
   "execution_count": 20,
   "metadata": {
    "collapsed": true
   },
   "outputs": [],
   "source": [
    "import scipy.stats as sps\n",
    "import numpy as np\n",
    "import math"
   ]
  },
  {
   "cell_type": "code",
   "execution_count": 21,
   "outputs": [],
   "source": [
    "def mean(sample): # выборочное среднее\n",
    "    return sum(sample) / len(sample)\n",
    "\n",
    "def var(sample): # исправленная выборочная дисперсия\n",
    "    mu = mean(sample)\n",
    "    return sum([(x - mu) ** 2 for x in sample]) / (len(sample) - 1)\n",
    "\n",
    "def cor_coef(first_sample, second_sample):\n",
    "    cov = mean(first_sample * second_sample) - mean(first_sample) * mean(second_sample)\n",
    "    return cov / (var(first_sample) * var(second_sample)) ** 0.5"
   ],
   "metadata": {
    "collapsed": false,
    "pycharm": {
     "name": "#%%\n"
    }
   }
  },
  {
   "cell_type": "code",
   "execution_count": 22,
   "outputs": [],
   "source": [
    "def group_data(sample, k):\n",
    "    sample_sorted = sorted(sample)\n",
    "    x0 = math.floor(min(sample_sorted))\n",
    "    xn = math.ceil(max(sample_sorted))\n",
    "    bounds = [x0 + i * (xn - x0) / k for i in range(k + 1)]\n",
    "    intervals = [(bounds[i], bounds[i + 1]) for i in range(len(bounds) - 1)]\n",
    "    grouped_sample_row = [(a + b) / 2 for (a, b) in intervals]\n",
    "    sample_gr = np.zeros(np.size(sample_sorted))\n",
    "    for i in range(len(sample_sorted)):\n",
    "        entry_interval = [j for j in range(k) if intervals[j][0] <= sample_sorted[i] <= intervals[j][1]][0]\n",
    "        sample_gr[i] = grouped_sample_row[entry_interval]\n",
    "    return sample_gr\n",
    "\n",
    "def group_data_intervals(sample, k):\n",
    "    sample = sorted(sample)\n",
    "    x0 = math.floor(min(sample))\n",
    "    xn = math.ceil(max(sample))\n",
    "    bounds = [x0 + i * (xn - x0) / k for i in range(k + 1)]\n",
    "    intervals = [(bounds[i], bounds[i + 1]) for i in range(len(bounds) - 1)]\n",
    "    grouped_sample_n = np.zeros(len(intervals))\n",
    "    for i in range(np.size(sample)):\n",
    "        entry_interval = [j for j in range(k) if intervals[j][0] <= sample[i] <= intervals[j][1]][0]\n",
    "        grouped_sample_n[entry_interval] += 1\n",
    "    return intervals, grouped_sample_n"
   ],
   "metadata": {
    "collapsed": false,
    "pycharm": {
     "name": "#%%\n"
    }
   }
  },
  {
   "cell_type": "code",
   "execution_count": 23,
   "outputs": [],
   "source": [
    "alpha = 0.05"
   ],
   "metadata": {
    "collapsed": false,
    "pycharm": {
     "name": "#%%\n"
    }
   }
  },
  {
   "cell_type": "markdown",
   "source": [
    "# Простые гипотезы"
   ],
   "metadata": {
    "collapsed": false,
    "pycharm": {
     "name": "#%% md\n"
    }
   }
  },
  {
   "cell_type": "markdown",
   "source": [
    "## Гипотеза однородности"
   ],
   "metadata": {
    "collapsed": false,
    "pycharm": {
     "name": "#%% md\n"
    }
   }
  },
  {
   "cell_type": "markdown",
   "source": [
    "#### Гаусс, несвязанные выборки"
   ],
   "metadata": {
    "collapsed": false,
    "pycharm": {
     "name": "#%% md\n"
    }
   }
  },
  {
   "cell_type": "code",
   "execution_count": 61,
   "outputs": [
    {
     "name": "stdout",
     "output_type": "stream",
     "text": [
      "Без группирования\n",
      "\n",
      "Среднее: статистика t = 0.6595273752785891, интервал [-1.9647389829672648, 1.9647389829672648]\n",
      "Средние выборок равны\n",
      "\n",
      "Дисперсия: статистика f = 0.8634841727235074, интервал [0.7729893672926245, 1.285204934412516]\n",
      "Дисперсии выборок равны\n"
     ]
    }
   ],
   "source": [
    "gauss_exp_1 = 5\n",
    "gauss_var_1 = 7\n",
    "gauss_exp_2 = 5\n",
    "gauss_var_2 = 9\n",
    "n1 = 200\n",
    "n2 = 300\n",
    "k = 8\n",
    "\n",
    "gauss_1 = sps.norm(gauss_exp_1, gauss_var_1 ** 0.5).rvs(n1)\n",
    "gauss_2 = sps.norm(gauss_exp_2, gauss_var_2 ** 0.5).rvs(n2)\n",
    "\n",
    "\n",
    "joint_var = ((n1 - 1) * var(gauss_1) + (n2 - 1) * var(gauss_2)) / (n1 + n2 - 2)\n",
    "t = (mean(gauss_1) - mean(gauss_2)) / ((joint_var * (1 / n1 + 1 / n2)) ** 0.5)\n",
    "tau_half_alpha = sps.t.ppf(1 - alpha / 2, n1 + n2 - 2)\n",
    "\n",
    "print(\"Без группирования\")\n",
    "print()\n",
    "print(f\"Среднее: статистика t = {t}, интервал [{- tau_half_alpha}, {tau_half_alpha}]\")\n",
    "if - tau_half_alpha < t < tau_half_alpha: print('Средние выборок равны')\n",
    "else: print('Средние выборок не равны')\n",
    "\n",
    "# критерий Фишера\n",
    "f = min(var(gauss_1) / var(gauss_2), var(gauss_2) / var(gauss_1))\n",
    "F_left = sps.f.ppf(alpha / 2, dfn = n1 - 1, dfd = n2 - 1)\n",
    "F_right = sps.f.ppf(1 - alpha / 2, dfn = n1 - 1, dfd = n2 - 1)\n",
    "\n",
    "print()\n",
    "print(f\"Дисперсия: статистика f = {f}, интервал [{F_left}, {F_right}]\")\n",
    "if F_left < f < F_right: print('Дисперсии выборок равны')\n",
    "else: print('Дисперсии выборок не равны')"
   ],
   "metadata": {
    "collapsed": false,
    "pycharm": {
     "name": "#%%\n"
    }
   }
  },
  {
   "cell_type": "code",
   "execution_count": 63,
   "outputs": [
    {
     "name": "stdout",
     "output_type": "stream",
     "text": [
      "С группированием\n",
      "\n",
      "Среднее: статистика t = 0.18384628749715787, интервал [-2.1447866879169273, 2.1447866879169273]\n",
      "Средние выборок равны\n",
      "\n",
      "Дисперсия: статистика f = 0.9132036366667488, интервал [0.20020383877718267, 4.994909219063238]\n",
      "Дисперсии выборок равны\n"
     ]
    }
   ],
   "source": [
    "gauss_1 = group_data(gauss_1, k)\n",
    "gauss_2 = group_data(gauss_2, k)\n",
    "\n",
    "joint_var = ((k - 1) * var(gauss_1) + (k - 1) * var(gauss_2)) / (k + k - 2)\n",
    "t = (mean(gauss_1) - mean(gauss_2)) / ((joint_var * (1 / k + 1 / k)) ** 0.5)\n",
    "tau_half_alpha = sps.t.ppf(1 - alpha / 2, k + k - 2)\n",
    "\n",
    "print(\"С группированием\")\n",
    "print()\n",
    "print(f\"Среднее: статистика t = {t}, интервал [{- tau_half_alpha}, {tau_half_alpha}]\")\n",
    "if - tau_half_alpha < t < tau_half_alpha: print('Средние выборок равны')\n",
    "else: print('Средние выборок не равны')\n",
    "\n",
    "# критерий Фишера\n",
    "f = min(var(gauss_1) / var(gauss_2), var(gauss_2) / var(gauss_1))\n",
    "F_left = sps.f.ppf(alpha / 2, dfn = k - 1, dfd = k - 1)\n",
    "F_right = sps.f.ppf(1 - alpha / 2, dfn = k - 1, dfd = k - 1)\n",
    "\n",
    "print()\n",
    "print(f\"Дисперсия: статистика f = {f}, интервал [{F_left}, {F_right}]\")\n",
    "if F_left < f < F_right: print('Дисперсии выборок равны')\n",
    "else: print('Дисперсии выборок не равны')"
   ],
   "metadata": {
    "collapsed": false,
    "pycharm": {
     "name": "#%%\n"
    }
   }
  },
  {
   "cell_type": "markdown",
   "source": [
    "#### Гаусс, связанные выборки"
   ],
   "metadata": {
    "collapsed": false,
    "pycharm": {
     "name": "#%% md\n"
    }
   }
  },
  {
   "cell_type": "code",
   "execution_count": 65,
   "outputs": [
    {
     "name": "stdout",
     "output_type": "stream",
     "text": [
      "Без группирования\n",
      "\n",
      "Среднее: статистика t = -12.218579409142183, интервал [-1.971956544249395, 1.971956544249395]\n",
      "Средние выборок не равны\n",
      "\n",
      "С группированием\n",
      "\n",
      "Среднее: статистика t = -2.392418668428461, интервал [-2.3646242510102993, 2.3646242510102993]\n",
      "Средние выборок не равны\n"
     ]
    }
   ],
   "source": [
    "gauss_exp = 3\n",
    "gauss_var = 12\n",
    "a, b = -6, 6\n",
    "n = 200\n",
    "k = 8\n",
    "\n",
    "x = sps.norm(gauss_exp, gauss_var ** 0.5).rvs(n)\n",
    "y = 5 * x + 0.1 * sps.uniform(a, b - a).rvs(n)\n",
    "z = x - y\n",
    "\n",
    "t = mean(z) / ((var(z) / n) ** 0.5)\n",
    "tau_half_alpha = sps.t.ppf(1 - alpha / 2, n - 1)\n",
    "\n",
    "print(\"Без группирования\")\n",
    "print()\n",
    "print(f\"Среднее: статистика t = {t}, интервал [{- tau_half_alpha}, {tau_half_alpha}]\")\n",
    "if - tau_half_alpha < t < tau_half_alpha: print('Средние выборок равны')\n",
    "else: print('Средние выборок не равны')\n",
    "print()\n",
    "\n",
    "\n",
    "x = group_data(x, k)\n",
    "y = group_data(y, k)\n",
    "z = x - y\n",
    "\n",
    "t = mean(z) / ((var(z) / k) ** 0.5)\n",
    "tau_half_alpha = sps.t.ppf(1 - alpha / 2, k - 1)\n",
    "\n",
    "print(\"С группированием\")\n",
    "print()\n",
    "print(f\"Среднее: статистика t = {t}, интервал [{- tau_half_alpha}, {tau_half_alpha}]\")\n",
    "if - tau_half_alpha < t < tau_half_alpha: print('Средние выборок равны')\n",
    "else: print('Средние выборок не равны')"
   ],
   "metadata": {
    "collapsed": false,
    "pycharm": {
     "name": "#%%\n"
    }
   }
  },
  {
   "cell_type": "markdown",
   "source": [
    "#### Пуассон, одна выборка"
   ],
   "metadata": {
    "collapsed": false,
    "pycharm": {
     "name": "#%% md\n"
    }
   }
  },
  {
   "cell_type": "code",
   "execution_count": 634,
   "outputs": [
    {
     "name": "stdout",
     "output_type": "stream",
     "text": [
      "Параметр: статистика t = 0.07959320658216641, интервал [-1.9599639845400545, 1.9599639845400545]\n",
      "Параметры λ выборок равны\n",
      "\n",
      "Дисперсия: статистика f = 0.9259997006367217, интервал [0.6728416631266823, 1.486233767619293]\n",
      "Дисперсии выборок равны\n"
     ]
    }
   ],
   "source": [
    "poission_lambda = 9\n",
    "poison = sps.poisson(poission_lambda).rvs(n)\n",
    "n = 200\n",
    "\n",
    "poisson_1 = poison[:n//2]\n",
    "poisson_2 = poison[n//2:]\n",
    "\n",
    "t = (mean(poisson_1) - mean(poisson_2)) / ((mean(poisson_1) + mean(poisson_2)) ** 0.5)\n",
    "u_half_alpha = - sps.norm.ppf(alpha / 2)\n",
    "\n",
    "print(f\"Параметр: статистика t = {t}, интервал [{- u_half_alpha}, {u_half_alpha}]\")\n",
    "if - u_half_alpha < t < u_half_alpha: print('Параметры λ выборок равны')\n",
    "else: print('Параметры λ выборок не равны')\n",
    "\n",
    "# критерий Фишера\n",
    "f = min(var(gauss_1) / var(gauss_2), var(gauss_2) / var(gauss_1))\n",
    "F_left = sps.f.ppf(alpha / 2, dfn = n//2 - 1, dfd = n//2 - 1)\n",
    "F_right = sps.f.ppf(1 - alpha / 2, dfn = n//2 - 1, dfd = n//2 - 1)\n",
    "\n",
    "print()\n",
    "print(f\"Дисперсия: статистика f = {f}, интервал [{F_left}, {F_right}]\")\n",
    "if F_left < f < F_right: print('Дисперсии выборок равны')\n",
    "else: print('Дисперсии выборок не равны')"
   ],
   "metadata": {
    "collapsed": false,
    "pycharm": {
     "name": "#%%\n"
    }
   }
  },
  {
   "cell_type": "markdown",
   "source": [
    "#### Гаусс, одна выборка"
   ],
   "metadata": {
    "collapsed": false,
    "pycharm": {
     "name": "#%% md\n"
    }
   }
  },
  {
   "cell_type": "code",
   "execution_count": 501,
   "outputs": [
    {
     "name": "stdout",
     "output_type": "stream",
     "text": [
      "\n",
      "Дисперсия: статистика f = 0.8981024214887887, интервал [0.6728416631266823, 1.486233767619293]\n",
      "Дисперсии выборок равны\n"
     ]
    }
   ],
   "source": [
    "gauss_exp = 5\n",
    "gauss_var = 9\n",
    "n = 200\n",
    "\n",
    "gauss = sps.norm(gauss_exp, gauss_var ** 0.5).rvs(n)\n",
    "\n",
    "gauss_1 = gauss[:n//2]\n",
    "gauss_2 = gauss[n//2:]\n",
    "\n",
    "# критерий Фишера\n",
    "f = min(var(gauss_1) / var(gauss_2), var(gauss_2) / var(gauss_1))\n",
    "F_left = sps.f.ppf(alpha / 2, dfn = n//2 - 1, dfd = n//2 - 1)\n",
    "F_right = sps.f.ppf(1 - alpha / 2, dfn = n//2 - 1, dfd = n//2 - 1)\n",
    "\n",
    "print()\n",
    "print(f\"Дисперсия: статистика f = {f}, интервал [{F_left}, {F_right}]\")\n",
    "if F_left < f < F_right: print('Дисперсии выборок равны')\n",
    "else: print('Дисперсии выборок не равны')"
   ],
   "metadata": {
    "collapsed": false,
    "pycharm": {
     "name": "#%%\n"
    }
   }
  },
  {
   "cell_type": "markdown",
   "source": [
    "## Коррелированость гауссовских выборок"
   ],
   "metadata": {
    "collapsed": false,
    "pycharm": {
     "name": "#%% md\n"
    }
   }
  },
  {
   "cell_type": "code",
   "execution_count": 559,
   "outputs": [
    {
     "name": "stdout",
     "output_type": "stream",
     "text": [
      "Связанные выборки\n",
      "\n",
      "Статистика t = 137.33004116806438, интервал [-1.9720174778338955, 1.9720174778338955]\n",
      "Выборки коррелированные\n"
     ]
    }
   ],
   "source": [
    "gauss_exp = 3\n",
    "gauss_var = 12\n",
    "a, b = -6, 6\n",
    "n = 200\n",
    "k = 8\n",
    "\n",
    "x = sps.norm(gauss_exp, gauss_var ** 0.5).rvs(n)\n",
    "y = 5 * x + 0.1 * sps.uniform(a, b - a).rvs(n)\n",
    "z = x - y\n",
    "\n",
    "p = cor_coef(x, y)\n",
    "t = (n - 2) ** 0.5 * p / ((1 - p ** 2) ** 0.5)\n",
    "tau_half_alpha = sps.t.ppf(1 - alpha / 2, n - 2)\n",
    "\n",
    "print(\"Связанные выборки\")\n",
    "print()\n",
    "print(f\"Статистика t = {t}, интервал [{- tau_half_alpha}, {tau_half_alpha}]\")\n",
    "if - tau_half_alpha < t < tau_half_alpha: print('Выборки некоррелированные')\n",
    "else: print('Выборки коррелированные')"
   ],
   "metadata": {
    "collapsed": false,
    "pycharm": {
     "name": "#%%\n"
    }
   }
  },
  {
   "cell_type": "code",
   "execution_count": 560,
   "outputs": [
    {
     "name": "stdout",
     "output_type": "stream",
     "text": [
      "Одна выборка\n",
      "\n",
      "Статистика t = -0.8235248614126729, интервал [-1.984467454426692, 1.984467454426692]\n",
      "Выборки некоррелированные\n"
     ]
    }
   ],
   "source": [
    "gauss_exp = 3\n",
    "gauss_var = 12\n",
    "n = 200\n",
    "\n",
    "gauss = sps.norm(gauss_exp, gauss_var ** 0.5).rvs(n)\n",
    "\n",
    "gauss_1 = gauss[:n//2]\n",
    "gauss_2 = gauss[n//2:]\n",
    "\n",
    "p = cor_coef(gauss_1, gauss_2)\n",
    "t = (n//2 - 2) ** 0.5 * p / ((1 - p ** 2) ** 0.5)\n",
    "tau_half_alpha = sps.t.ppf(1 - alpha / 2, n//2 - 2)\n",
    "\n",
    "print(\"Одна выборка\")\n",
    "print()\n",
    "print(f\"Статистика t = {t}, интервал [{- tau_half_alpha}, {tau_half_alpha}]\")\n",
    "if - tau_half_alpha < t < tau_half_alpha: print('Выборки некоррелированные')\n",
    "else: print('Выборки коррелированные')"
   ],
   "metadata": {
    "collapsed": false,
    "pycharm": {
     "name": "#%%\n"
    }
   }
  },
  {
   "cell_type": "markdown",
   "source": [
    "# Критерии согласия"
   ],
   "metadata": {
    "collapsed": false,
    "pycharm": {
     "name": "#%% md\n"
    }
   }
  },
  {
   "cell_type": "markdown",
   "source": [
    "## Критерий Пирсона"
   ],
   "metadata": {
    "collapsed": false,
    "pycharm": {
     "name": "#%% md\n"
    }
   }
  },
  {
   "cell_type": "code",
   "execution_count": 50,
   "outputs": [],
   "source": [
    "def pirson_test(sample, k):\n",
    "    mu = mean(sample)\n",
    "    s = var(sample)\n",
    "    intervals, ns = group_data_intervals(sample, k)\n",
    "    n = len(sample)\n",
    "\n",
    "    pT = np.array([sps.norm(mu, s ** 0.5).cdf(intervals[i][1]) - sps.norm(mu, s ** 0.5).cdf(intervals[i][0]) for i in range(len(intervals))])\n",
    "    u = n * sum(((ns[i] / n - pT[i]) ** 2) / pT[i] for i in range(len(intervals)))\n",
    "\n",
    "    chi2 = sps.chi2.ppf(1 - alpha, df = k - 1)\n",
    "    print(f\"Статистика u = {u}, критическое значение {chi2}\")\n",
    "    if u < chi2: print('Выборка Гауссовская')\n",
    "    else: print('Выборка не Гауссовская')\n",
    "    print()"
   ],
   "metadata": {
    "collapsed": false,
    "pycharm": {
     "name": "#%%\n"
    }
   }
  },
  {
   "cell_type": "code",
   "execution_count": 67,
   "outputs": [
    {
     "name": "stdout",
     "output_type": "stream",
     "text": [
      "Гауссовское распределение\n",
      "Статистика u = 7.424659905135007, критическое значение 16.918977604620448\n",
      "Выборка Гауссовская\n",
      "\n",
      "Гауссовское распределение с равномерным шумом\n",
      "Статистика u = 2.7882604587522937, критическое значение 16.918977604620448\n",
      "Выборка Гауссовская\n",
      "\n",
      "Гауссовское распределение с шумом Коши\n",
      "Статистика u = 19.689298123132435, критическое значение 16.918977604620448\n",
      "Выборка не Гауссовская\n",
      "\n"
     ]
    }
   ],
   "source": [
    "n = 400\n",
    "k = 10\n",
    "a, b = -6, 6\n",
    "print(\"Гауссовское распределение\")\n",
    "gauss = sps.norm(5, 7 ** 0.5).rvs(n)\n",
    "pirson_test(gauss, k)\n",
    "\n",
    "print(\"Гауссовское распределение с равномерным шумом\")\n",
    "gauss_uni = sps.norm(5, 7 ** 0.5).rvs(n) + 0.1 * sps.uniform(a, b - a).rvs(n)\n",
    "pirson_test(gauss_uni, k)\n",
    "\n",
    "print(\"Гауссовское распределение с шумом Коши\")\n",
    "gauss_cauchy = sps.norm(5, 7 ** 0.5).rvs(n) + 0.01 * sps.cauchy().rvs(n)\n",
    "pirson_test(gauss_cauchy, k)"
   ],
   "metadata": {
    "collapsed": false,
    "pycharm": {
     "name": "#%%\n"
    }
   }
  },
  {
   "cell_type": "markdown",
   "source": [
    "## Критерий Колмогорова"
   ],
   "metadata": {
    "collapsed": false,
    "pycharm": {
     "name": "#%% md\n"
    }
   }
  },
  {
   "cell_type": "code",
   "execution_count": 52,
   "outputs": [],
   "source": [
    "def experemental_cdf(sample, x0):\n",
    "    return sum([1 for x in sample if x <= x0]) / len(sample)"
   ],
   "metadata": {
    "collapsed": false,
    "pycharm": {
     "name": "#%%\n"
    }
   }
  },
  {
   "cell_type": "code",
   "execution_count": 58,
   "outputs": [],
   "source": [
    "def kolmogorov_test(sample):\n",
    "    mu = mean(sample)\n",
    "    s = var(sample)\n",
    "    n = len(sample)\n",
    "\n",
    "    Dn = max([abs(experemental_cdf(sample, x) - sps.norm(mu, s ** 0.5).cdf(x)) for x in sample])\n",
    "    k = n ** 0.5 * Dn\n",
    "\n",
    "    kolm = sps.kstwobign.ppf(1 - alpha)\n",
    "\n",
    "    print(f\"Статистика k = {k}, критическое значение {kolm}\")\n",
    "    if k < kolm: print('Выборка Гауссовская')\n",
    "    else: print('Выборка не Гауссовская')\n",
    "    print()"
   ],
   "metadata": {
    "collapsed": false,
    "pycharm": {
     "name": "#%%\n"
    }
   }
  },
  {
   "cell_type": "code",
   "execution_count": 68,
   "outputs": [
    {
     "name": "stdout",
     "output_type": "stream",
     "text": [
      "Гауссовское распределение\n",
      "Статистика k = 0.7460798885055464, критическое значение 1.3580986393225505\n",
      "Выборка Гауссовская\n",
      "\n",
      "Гауссовское распределение с равномерным шумом\n",
      "Статистика k = 0.7279092287053024, критическое значение 1.3580986393225505\n",
      "Выборка Гауссовская\n",
      "\n",
      "Гауссовское распределение с шумом Коши\n",
      "Статистика k = 0.6554141811233949, критическое значение 1.3580986393225505\n",
      "Выборка Гауссовская\n",
      "\n"
     ]
    }
   ],
   "source": [
    "print(\"Гауссовское распределение\")\n",
    "kolmogorov_test(gauss)\n",
    "\n",
    "print(\"Гауссовское распределение с равномерным шумом\")\n",
    "kolmogorov_test(gauss_uni)\n",
    "\n",
    "print(\"Гауссовское распределение с шумом Коши\")\n",
    "kolmogorov_test(gauss_cauchy)"
   ],
   "metadata": {
    "collapsed": false,
    "pycharm": {
     "name": "#%%\n"
    }
   }
  },
  {
   "cell_type": "markdown",
   "source": [
    "## Критерий Колмогорова-Смирнова"
   ],
   "metadata": {
    "collapsed": false,
    "pycharm": {
     "name": "#%% md\n"
    }
   }
  },
  {
   "cell_type": "code",
   "execution_count": 59,
   "outputs": [],
   "source": [
    "def kolmogorov_smirnov_test(first_sample, second_sample):\n",
    "    n1 = len(first_sample)\n",
    "    n2 = len(second_sample)\n",
    "\n",
    "    D = max(max([abs(experemental_cdf(first_sample, x) - experemental_cdf(second_sample, x)) for x in first_sample]), max([abs(experemental_cdf(first_sample, x) - experemental_cdf(second_sample, x)) for x in second_sample]))\n",
    "\n",
    "    k = (n1 * n2 / (n1 + n2)) ** 0.5 * D\n",
    "\n",
    "    kolm = sps.kstwobign.ppf(1 - alpha)\n",
    "\n",
    "    print(f\"Статистика k = {k}, критическое значение {kolm}\")\n",
    "    # print((- np.log(alpha / 2) * 0.5) ** 0.5)\n",
    "    if k < kolm: print('Выборки имеют одинаковое распределение')\n",
    "    else: print('Выборки имеют различное распределение')\n",
    "    print()"
   ],
   "metadata": {
    "collapsed": false,
    "pycharm": {
     "name": "#%%\n"
    }
   }
  },
  {
   "cell_type": "code",
   "execution_count": 69,
   "outputs": [
    {
     "name": "stdout",
     "output_type": "stream",
     "text": [
      "Гауссовское распределение\n",
      "Статистика k = 1.0500000000000003, критическое значение 1.3580986393225505\n",
      "Выборки имеют одинаковое распределение\n",
      "\n",
      "Гауссовское распределение с равномерным шумом\n",
      "Статистика k = 0.4500000000000004, критическое значение 1.3580986393225505\n",
      "Выборки имеют одинаковое распределение\n",
      "\n",
      "Гауссовское распределение с шумом Коши\n",
      "Статистика k = 0.4999999999999999, критическое значение 1.3580986393225505\n",
      "Выборки имеют одинаковое распределение\n",
      "\n"
     ]
    }
   ],
   "source": [
    "print(\"Гауссовское распределение\")\n",
    "gauss_1 = gauss[:n//2]\n",
    "gauss_2 = gauss[n//2:]\n",
    "kolmogorov_smirnov_test(gauss_1, gauss_2)\n",
    "\n",
    "print(\"Гауссовское распределение с равномерным шумом\")\n",
    "gauss_uni_1 = gauss_uni[:n//2]\n",
    "gauss_uni_2 = gauss_uni[n//2:]\n",
    "kolmogorov_smirnov_test(gauss_uni_1, gauss_uni_2)\n",
    "\n",
    "print(\"Гауссовское распределение с шумом Коши\")\n",
    "gauss_cauchy_1 = gauss_cauchy[:n//2]\n",
    "gauss_cauchy_2 = gauss_cauchy[n//2:]\n",
    "kolmogorov_smirnov_test(gauss_cauchy_1, gauss_cauchy_2)"
   ],
   "metadata": {
    "collapsed": false,
    "pycharm": {
     "name": "#%%\n"
    }
   }
  },
  {
   "cell_type": "code",
   "execution_count": null,
   "outputs": [],
   "source": [],
   "metadata": {
    "collapsed": false,
    "pycharm": {
     "name": "#%%\n"
    }
   }
  }
 ],
 "metadata": {
  "kernelspec": {
   "display_name": "Python 3",
   "language": "python",
   "name": "python3"
  },
  "language_info": {
   "codemirror_mode": {
    "name": "ipython",
    "version": 2
   },
   "file_extension": ".py",
   "mimetype": "text/x-python",
   "name": "python",
   "nbconvert_exporter": "python",
   "pygments_lexer": "ipython2",
   "version": "2.7.6"
  }
 },
 "nbformat": 4,
 "nbformat_minor": 0
}